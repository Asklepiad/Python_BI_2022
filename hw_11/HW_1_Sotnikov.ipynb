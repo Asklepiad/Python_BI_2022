{
 "cells": [
  {
   "cell_type": "markdown",
   "id": "7c5a538f-2dbe-445c-9f46-cf0dc18867e4",
   "metadata": {},
   "source": [
    "# Задание 1 (5 баллов)"
   ]
  },
  {
   "cell_type": "markdown",
   "id": "1e8cc3b0-6f60-40da-8058-30d9eb434daf",
   "metadata": {},
   "source": [
    "Напишите классы **Chat**, **Message** и **User**. Они должны соответствовать следующим требованиям:\n",
    "\n",
    "**Chat**:\n",
    "+ Должен иметь атрибут `chat_history`, где будут храниться все сообщения (`Message`) в обратном хронологическом порядке (сначала новые, затем старые)\n",
    "+ Должен иметь метод `show_last_message`, выводящий на экран информацию о последнем сообщении\n",
    "+ Должен иметь метод `get_history_from_time_period`, который принимает два опциональных аргумента (даты с которой и по какую мы ищем сообщения и выдаём их). Метод также должен возвращать объект типа `Chat`\n",
    "+ Должен иметь метод `show_chat`, выводящий на экран все сообщения (каждое сообщение в таком же виде как и `show_last_message`, но с разделителем между ними)\n",
    "+ Должен иметь метод `recieve`, который будет принимать сообщение и добавлять его в чат\n",
    "\n",
    "**Message**:\n",
    "+ Должен иметь три обязательных атрибута\n",
    "    + `text` - текст сообщения\n",
    "    + `datetime` - дата и время сообщения (встроенный модуль datetime вам в помощь). Важно! Это должна быть не дата создания сообщения, а дата его попадания в чат! \n",
    "    + `user` - информация о пользователе, который оставил сообщение (какой тип данных использовать здесь, разберётесь сами)\n",
    "+ Должен иметь метод `show`, который печатает или возвращает информацию о сообщении с необходимой информацией (дата, время, юзер, текст)\n",
    "+ Должен иметь метод `send`, который будет отправлять сообщение в чат\n",
    "\n",
    "**User**:\n",
    "+ Класс с информацией о юзере, наполнение для этого класса придумайте сами\n",
    "\n",
    "Напишите несколько примеров использования кода, которое показывает взаимодействие между объектами.\n",
    "\n",
    "В тексте задания намерено не указано, какие аргументы должны принимать методы, пускай вам в этом поможет здравый смысл)\n",
    "\n",
    "В этом задании не стоит флексить всякими продвинутыми штуками, для этого есть последующие\n",
    "\n",
    "В этом задании можно использовать только модуль `datetime`"
   ]
  },
  {
   "cell_type": "code",
   "execution_count": 47,
   "id": "74399b15",
   "metadata": {},
   "outputs": [],
   "source": [
    "from datetime import datetime"
   ]
  },
  {
   "cell_type": "code",
   "execution_count": 94,
   "id": "d14ce6ca-7294-492c-8a01-3f7547680474",
   "metadata": {},
   "outputs": [],
   "source": [
    "class Chat(list):\n",
    "    def __init__(self, container):\n",
    "        self.chat_history = []\n",
    "\n",
    "    \n",
    "    def show_last_message(self, number=0):\n",
    "        last_message = self.chat_history[number]\n",
    "        print(f\"User info: {last_message.show('user')}\\n\\\n",
    "        Date: {last_message.show('date')}\\n\\\n",
    "        Time: {last_message.show('time')}\\n\\\n",
    "        Text of the message: {last_message.show('text')}\")\n",
    "\n",
    "    \n",
    "    def get_history_from_time_period(self, first_date=None, second_date=None):   # Функция работает криво\n",
    "        start_point = None\n",
    "        final_point = None\n",
    "        Flag_start = True\n",
    "        \n",
    "        if first_date != None or second_date != None:\n",
    "            for message in self.chat_history:\n",
    "\n",
    "                if (second_date - message.datetime).days >= 0 \\\n",
    "                and (message.datetime - first_date).days >= 0 \\\n",
    "                and Flag_start:\n",
    "                    start_point = self.chat_history.index(message)\n",
    "                    Flag_start = False\n",
    "\n",
    "                if (message.datetime - first_date).days < 0 and Flag_start == False:\n",
    "                    final_point = self.chat_history.index(message)\n",
    "                    break\n",
    "                \n",
    "        if first_date == None:\n",
    "            start_point = 0\n",
    "            \n",
    "        if second_date == None:\n",
    "            final_point = len(self.chat_history)\n",
    "        \n",
    "        \n",
    "        result = self[start_point:final_point]\n",
    "        return result\n",
    "        \n",
    "        \n",
    "    def show_chat(self):\n",
    "        for message_number in range(len(self.chat_history)):\n",
    "            self.show_last_message(message_number)\n",
    "    \n",
    "    def recieve(self, message):\n",
    "         if isinstance(message, Message):\n",
    "            self.chat_history.insert(0, message)\n",
    "            self.insert(0, message)\n",
    "\n",
    "\n",
    "class Message:\n",
    "    def __init__(self, text, user, datetime=None):\n",
    "        self.text = text\n",
    "        self.datetime = datetime\n",
    "        self.date = None\n",
    "        self.time = None\n",
    "        self.user = user\n",
    "    \n",
    "    def show(self, attribute):\n",
    "        if isinstance(attribute, list):\n",
    "            answers = []\n",
    "            for attr in attribute:\n",
    "                if isinstance(attr, str) and hasattr(self, attr):\n",
    "                    answers.append(f\"{attr}: {getattr(self, attr)}\")\n",
    "                else:\n",
    "                    raise AttributeError\\\n",
    "                    (\"You have entered unavailable argument.\\n\\\n",
    "                    Please input one of the below-writed attributes or list/tuple with them:\\n\\\n",
    "                    'user', 'date', 'time', 'message'\")\n",
    "            return answers\n",
    "        elif isinstance(attribute, str) or isinstance(attribute, User):\n",
    "            if hasattr(self, attribute):\n",
    "                return f\"{attribute}: {getattr(self, attribute)}\"\n",
    "            else:\n",
    "                raise AttributeError\\\n",
    "            (\"You have entered unavailable argument.\\n\\\n",
    "            Please, input one of the below-writed attributes or list/tuple with them:\\n\\\n",
    "            'user', 'date', 'time', 'message'\")\n",
    "        else:\n",
    "            raise AttributeError\\\n",
    "            (\"You have used unavailabel class of argument\\n\\\n",
    "            Please, use string type for message and User type for user.\")\n",
    "    \n",
    "    def send(self, chat):\n",
    "        if isinstance(chat, Chat):\n",
    "            self.datetime = datetime.today()     # Настраиваем дату и время\n",
    "            self.date = self.datetime.strftime(\"%d %m %Y\")\n",
    "            self.time = self.datetime.strftime(\"%H:%M:%S\")\n",
    "            \n",
    "            chat.recieve(self)           # Передаем сообщение в чат\n",
    "\n",
    "class User:\n",
    "    def __init__(self, nickname, name=\"Bogdan\", surname=\"Sotnikov\", \\\n",
    "                  birhdate=\"01.05.1999\", sex=\"male\",\\\n",
    "                  user_status=\"user\", what_is_he_doing=\"doing his python homework\"):\n",
    "        self.name = name\n",
    "        self.surname = surname\n",
    "        self.nickname = nickname\n",
    "        self.birhdate = birhdate\n",
    "        self.sex = sex\n",
    "        self.user_status = user_status\n",
    "        self.what_is_he_doing = what_is_he_doing\n",
    "    \n",
    "    def __repr__(self):\n",
    "        return str([self.nickname,\n",
    "                    self.name,\n",
    "                    self.surname,\n",
    "                    self.birhdate,\n",
    "                    self.sex,\n",
    "                    self.user_status,\n",
    "                    self.what_is_he_doing\n",
    "                   ])"
   ]
  },
  {
   "cell_type": "markdown",
   "id": "a59aa1b3-4c93-480e-a09f-e57df34eb60a",
   "metadata": {},
   "source": [
    "# Задание 2 (3 балла)"
   ]
  },
  {
   "cell_type": "markdown",
   "id": "ab07eb69-877f-4c38-8c7d-88beae20071b",
   "metadata": {},
   "source": [
    "В питоне как-то слишком типично и неинтересно происходят вызовы функций. Напишите класс `Args`, который будет хранить в себе аргументы, а функции можно будет вызывать при помощи следующего синтаксиса.\n",
    "\n",
    "Использовать любые модули **нельзя**, да и вряд-ли это как-то поможет)"
   ]
  },
  {
   "cell_type": "code",
   "execution_count": 99,
   "id": "d73d6b31-c15a-4ae6-ad9b-b3fdab88efed",
   "metadata": {},
   "outputs": [],
   "source": [
    "class Args:\n",
    "    def __init__(self, *args, **kwargs):\n",
    "        self.argi = args\n",
    "        self.kwargi = kwargs\n",
    "    \n",
    "    def __rlshift__(self, fun):\n",
    "        return fun(*self.argi, **self.kwargi)\n",
    "    \n",
    "    def regeneration(self):\n",
    "        print(\"Восстановление нервных клеток\")"
   ]
  },
  {
   "cell_type": "code",
   "execution_count": 105,
   "id": "f61d984c",
   "metadata": {},
   "outputs": [
    {
     "data": {
      "text/plain": [
       "3"
      ]
     },
     "execution_count": 105,
     "metadata": {},
     "output_type": "execute_result"
    }
   ],
   "source": [
    "sum << Args([1, 2])"
   ]
  },
  {
   "cell_type": "code",
   "execution_count": 106,
   "id": "3859ec06",
   "metadata": {},
   "outputs": [
    {
     "data": {
      "text/plain": [
       "53"
      ]
     },
     "execution_count": 106,
     "metadata": {},
     "output_type": "execute_result"
    }
   ],
   "source": [
    "(lambda a, b, c: a**2 + b + c) << Args(1, 2, c=50)"
   ]
  },
  {
   "cell_type": "markdown",
   "id": "d6915eaf-92fe-460b-bf9b-06ccf55b093f",
   "metadata": {},
   "source": [
    "# Задание 3 (5 баллов)"
   ]
  },
  {
   "cell_type": "markdown",
   "id": "5a588ef8-8af6-42b6-972b-3c716a604c34",
   "metadata": {},
   "source": [
    "Сделайте класс наследник `float`. Он должен вести себя как `float`, но также должен обладать некоторыми особенностями:\n",
    "+ При получении атрибутов формата `<действие>_<число>` мы получаем результат такого действия над нашим числом\n",
    "+ Создавать данные атрибуты в явном виде, очевидно, не стоит\n",
    "\n",
    "Подсказка: если в процессе гуглёжки, вы выйдете на такую тему как **\"Дескрипторы\", то это НЕ то, что вам сейчас нужно**\n",
    "\n",
    "Примеры использования ниже"
   ]
  },
  {
   "cell_type": "code",
   "execution_count": 107,
   "id": "61cb63a2-90ac-4b79-97a5-bb0496262e32",
   "metadata": {},
   "outputs": [],
   "source": [
    "class StrangeFloat(float):\n",
    "    def __init__(self, num):\n",
    "        super().__init__()\n",
    "        self.num = num\n",
    "        self.operands = {'add': lambda a, b: a + b, 'subtract': lambda a, b: a - b, \n",
    "                         'multiply': lambda a, b: a * b, 'divide': lambda a, b: a / b }\n",
    "    def __getattr__(self, attrname):\n",
    "        if \"_\" in attrname:\n",
    "            attrs = attrname.split(\"_\")\n",
    "            attr = attrs[0]\n",
    "            value = float(attrs[1])\n",
    "            return type(self)(self.operands[attr](self, value))"
   ]
  },
  {
   "cell_type": "code",
   "execution_count": 108,
   "id": "7d826542",
   "metadata": {},
   "outputs": [],
   "source": [
    "number = StrangeFloat(3.5)"
   ]
  },
  {
   "cell_type": "code",
   "execution_count": 109,
   "id": "16a49c93",
   "metadata": {},
   "outputs": [
    {
     "data": {
      "text/plain": [
       "4.5"
      ]
     },
     "execution_count": 109,
     "metadata": {},
     "output_type": "execute_result"
    }
   ],
   "source": [
    "number.add_1"
   ]
  },
  {
   "cell_type": "code",
   "execution_count": 110,
   "id": "8f7b82d9",
   "metadata": {},
   "outputs": [
    {
     "data": {
      "text/plain": [
       "-16.5"
      ]
     },
     "execution_count": 110,
     "metadata": {},
     "output_type": "execute_result"
    }
   ],
   "source": [
    "number.subtract_20"
   ]
  },
  {
   "cell_type": "code",
   "execution_count": 111,
   "id": "130027b5-017a-4c70-b072-1fdc6acf670f",
   "metadata": {},
   "outputs": [
    {
     "data": {
      "text/plain": [
       "17.5"
      ]
     },
     "execution_count": 111,
     "metadata": {},
     "output_type": "execute_result"
    }
   ],
   "source": [
    "number.multiply_5"
   ]
  },
  {
   "cell_type": "code",
   "execution_count": 112,
   "id": "2b901e5c-5a51-4788-b15b-9b20a074e1a4",
   "metadata": {},
   "outputs": [
    {
     "data": {
      "text/plain": [
       "0.14"
      ]
     },
     "execution_count": 112,
     "metadata": {},
     "output_type": "execute_result"
    }
   ],
   "source": [
    "number.divide_25"
   ]
  },
  {
   "cell_type": "code",
   "execution_count": 113,
   "id": "ea52c492-b0ce-4d73-8aba-a0ea51ed0b60",
   "metadata": {},
   "outputs": [
    {
     "data": {
      "text/plain": [
       "-4.125"
      ]
     },
     "execution_count": 113,
     "metadata": {},
     "output_type": "execute_result"
    }
   ],
   "source": [
    "number.add_1.add_2.multiply_6.divide_8.subtract_9"
   ]
  },
  {
   "cell_type": "code",
   "execution_count": 114,
   "id": "e26ef411-a5df-46c7-bb9d-e77a1fad3cec",
   "metadata": {},
   "outputs": [
    {
     "data": {
      "text/plain": [
       "1.0"
      ]
     },
     "execution_count": 114,
     "metadata": {},
     "output_type": "execute_result"
    }
   ],
   "source": [
    "getattr(number, \"add_-2.5\")   # Используем getattr, так как не можем написать number.add_-2.5 - это SyntaxError"
   ]
  },
  {
   "cell_type": "markdown",
   "id": "3635bceb-723c-4b2f-82e3-269bd914c46c",
   "metadata": {},
   "source": [
    "# Задание 4 (3 балла)"
   ]
  },
  {
   "cell_type": "markdown",
   "id": "31d35f82-1e20-4bf5-b896-7b8163f8386f",
   "metadata": {},
   "source": [
    "В данном задании мы немного отдохнём и повеселимся. От вас требуется заменить в данном коде максимально возможное количество синтаксических конструкций на вызовы dunder методов, dunder атрибутов и dunder переменных.\n",
    "\n",
    "Маленькая заметка: полностью всё заменить невозможно. Например, `function()` можно записать как `function.__call__()`, но при этом мы всё ещё не избавляемся от скобочек, так что можно делать так до бесконечности `function.__call__.__call__.__call__.__call__.....__call__()` и при всём при этом мы ещё не избавляемся от `.` для доступа к атрибутам. В общем, замените всё, что получится, не закапываясь в повторы, как в приведённом примере. Чем больше разных методов вы найдёте и используете, тем лучше и тем выше будет балл\n",
    "\n",
    "Код по итогу дожен работать и печатать число **4420.0**, как в примере. Структуру кода менять нельзя, просто изменяем конструкции на синонимичные\n",
    "\n",
    "И ещё маленькая подсказка. Заменить здесь можно всё кроме:\n",
    "+ Конструкции `for ... in ...`:\n",
    "+ Синтаксиса создания лямбда функции\n",
    "+ Оператора присваивания `=`\n",
    "+ Конструкции `if-else`"
   ]
  },
  {
   "cell_type": "code",
   "execution_count": 115,
   "id": "a87cff2a-7168-470d-b38f-1cb5a60ac0c4",
   "metadata": {},
   "outputs": [
    {
     "name": "stdout",
     "output_type": "stream",
     "text": [
      "4420.0\n"
     ]
    }
   ],
   "source": [
    "import numpy as np\n",
    "\n",
    "\n",
    "matrix = []\n",
    "for idx in range(0, 100, 10):\n",
    "    matrix += [list(range(idx, idx + 10))]\n",
    "    \n",
    "selected_columns_indices = list(filter(lambda x: x in range(1, 5, 2), range(len(matrix))))\n",
    "selected_columns = map(lambda x: [x[col] for col in selected_columns_indices], matrix)\n",
    "\n",
    "arr = np.array(list(selected_columns))\n",
    "\n",
    "mask = arr[:, 1] % 3 == 0\n",
    "new_arr = arr[mask]\n",
    "\n",
    "product = new_arr @ new_arr.T\n",
    "\n",
    "if (product[0] < 1000).all() and (product[2] > 1000).any():\n",
    "    print(product.mean())"
   ]
  },
  {
   "cell_type": "markdown",
   "id": "7301d439",
   "metadata": {},
   "source": [
    "Вариант с дандерами."
   ]
  },
  {
   "cell_type": "code",
   "execution_count": 116,
   "id": "9e29cc00-c8db-4cc4-a93b-2908352d9344",
   "metadata": {},
   "outputs": [
    {
     "name": "stdout",
     "output_type": "stream",
     "text": [
      "4420.0\n"
     ]
    }
   ],
   "source": [
    "np = __import__(\"numpy\")\n",
    "\n",
    "\n",
    "matrix = []\n",
    "for idx in range(0, 100, 10):\n",
    "    matrix.__iadd__([list(range(idx, idx.__add__(10)))])\n",
    "    \n",
    "selected_columns_indices = list(filter(lambda x: x in range(1, 5, 2), range((matrix).__len__())))\n",
    "selected_columns = map(lambda x: [x.__getitem__(col) for col in selected_columns_indices], matrix)\n",
    "\n",
    "arr = np.array(list(selected_columns))\n",
    "\n",
    "mask = arr[:, 1].__mod__(3).__eq__(0)\n",
    "new_arr = arr.__getitem__(mask)\n",
    "\n",
    "product = new_arr.__matmul__(new_arr.T)\n",
    "\n",
    "if (product.__getitem__(0).__lt__(1000)).all().__and__((product.__getitem__(2).__gt__(1000)).any()):\n",
    "    print(product.mean())"
   ]
  },
  {
   "cell_type": "markdown",
   "id": "e90e5938-cabe-4ee1-9a88-73f25b3b67c3",
   "metadata": {},
   "source": [
    "# Задание 5 (10 баллов)"
   ]
  },
  {
   "cell_type": "markdown",
   "id": "0e58f6a8-7bb8-45f0-b14d-3bcd1f1ba5a9",
   "metadata": {},
   "source": [
    "Напишите абстрактный класс `BiologicalSequence`, который задаёт следующий интерфейс:\n",
    "+ Работа с функцией `len`\n",
    "+ Возможность получать элементы по индексу и делать срезы последовательности (аналогично строкам)\n",
    "+ Вывод на печать в удобном виде и возможность конвертации в строку\n",
    "+ Возможность проверить алфавит последовательности на корректность\n",
    "\n",
    "Напишите класс `NucleicAcidSequence`:\n",
    "+ Данный класс реализует интерфейс `BiologicalSequence`\n",
    "+ Данный класс имеет новый метод `complement`, возвращающий комплементарную последовательность\n",
    "+ Данный класс имеет новый метод `gc_content`, возвращающий GC-состав (без разницы, в процентах или в долях)\n",
    "\n",
    "Напишите классы наследники `NucleicAcidSequence`: `DNASequence` и `RNASequence`\n",
    "+ `DNASequence` должен иметь метод `transcribe`, возвращающий транскрибированную РНК-последовательность\n",
    "+ Данные классы не должны иметь <ins>публичных методов</ins> `complement` и метода для проверки алфавита, так как они уже должны быть реализованы в `NucleicAcidSequence`.\n",
    "\n",
    "Напишите класс `AminoAcidSequence`:\n",
    "+ Данный класс реализует интерфейс `BiologicalSequence`\n",
    "+ Добавьте этому классу один любой метод, подходящий по смыслу к аминокислотной последовательности. Например, метод для нахождения изоэлектрической точки, молекулярного веса и т.д.\n",
    "\n",
    "Комментарий по поводу метода `NucleicAcidSequence.complement`, так как я хочу, чтобы вы сделали его опредедённым образом:\n",
    "\n",
    "При вызове `dna.complement()` или условного `dna.check_alphabet()` должны будут вызываться соответствующие методы из `NucleicAcidSequence`. При этом, данный метод должен обладать свойством полиморфизма, иначе говоря, внутри `complement` не надо делать условия а-ля `if seuqence_type == \"DNA\": return self.complement_dna()`, это крайне не гибко. Данный метод должен опираться на какой-то общий интерфейс между ДНК и РНК. Создание экземпляров `NucleicAcidSequence` не подразумевается, поэтому код `NucleicAcidSequence(\"ATGC\").complement()` не обязан работать, а в идеале должен кидать исключение `NotImplementedError` при вызове от экземпляра `NucleicAcidSequence`\n",
    "\n",
    "Вся сложность задания в том, чтобы правильно организовать код. Если у вас есть повторяющийся код в сестринских классах или родительском и дочернем, значит вы что-то делаете не так.\n",
    "\n",
    "\n",
    "Маленькое замечание: По-хорошему, между классом `BiologicalSequence` и классами `NucleicAcidSequence` и `AminoAcidSequence`, ещё должен быть класс-прослойка, частично реализующий интерфейс `BiologicalSequence`, но его писать не обязательно, так как задание и так довольно большое (правда из-за этого у вас неминуемо возникнет повторяющийся код в классах `NucleicAcidSequence` и `AminoAcidSequence`)"
   ]
  },
  {
   "cell_type": "code",
   "execution_count": 117,
   "id": "60fd9a23",
   "metadata": {},
   "outputs": [],
   "source": [
    "from abc import ABC, abstractmethod\n",
    "\n",
    "\n",
    "class BiologicalSequence(ABC):\n",
    "    @abstractmethod\n",
    "    def __len__(self):\n",
    "        pass\n",
    "    \n",
    "    @abstractmethod\n",
    "    def __getitem__(self, slc):\n",
    "        pass\n",
    "    \n",
    "    @abstractmethod\n",
    "    def __str__(self):\n",
    "        pass\n",
    "    \n",
    "    @abstractmethod\n",
    "    def __repr__(self):\n",
    "        pass\n",
    "    \n",
    "    @abstractmethod\n",
    "    def correctness(self):\n",
    "        pass\n",
    "    \n",
    "class IncorrectSequenceAlphabet(ValueError):\n",
    "    pass"
   ]
  },
  {
   "cell_type": "code",
   "execution_count": 118,
   "id": "817bb888",
   "metadata": {},
   "outputs": [],
   "source": [
    "class NucleicAcidSequence(BiologicalSequence): \n",
    "\n",
    "    def __len__(self):\n",
    "        return len(self.seq)\n",
    "    \n",
    "    def __getitem__(self, slc):\n",
    "        return self.seq[slc]\n",
    "    \n",
    "    def __str__(self):\n",
    "        return str(self.seq)\n",
    "    \n",
    "    def __repr__(self):\n",
    "        return str(f\"Sequence {self.seq}\")\n",
    "    \n",
    "    def __upper__(self):\n",
    "        return self.seq.upper()\n",
    "        \n",
    "    def __lower__(self):\n",
    "        return self.seq.lower()\n",
    "    \n",
    "    def correctness(self):\n",
    "        if any(monomer not in self.list for monomer in self.seq.upper()):\n",
    "            raise IncorrectSequenceAlphabet(\"Your sequence contains illegal symbols.\")\n",
    "        else:\n",
    "            return True\n",
    "            \n",
    "    def complement(self):\n",
    "        if self.correctness():\n",
    "            result = ''.join([self.dictionary[nucleotide] for nucleotide in self.seq])\n",
    "        return result\n",
    "\n",
    "    def gc_content(self):\n",
    "        gc_count = 0\n",
    "        for nucleotide in self.seq.upper():\n",
    "            gc_count += (nucleotide == \"G\" or nucleotide == \"C\")\n",
    "            gc_percent = (gc_count / len(self.seq)) * 100\n",
    "        return gc_percent"
   ]
  },
  {
   "cell_type": "code",
   "execution_count": 119,
   "id": "f17d5d3f-9982-4271-a987-3af7bc071c42",
   "metadata": {},
   "outputs": [],
   "source": [
    "class AminoAcidSequence(BiologicalSequence):\n",
    "    def __init__(self, seq):\n",
    "        self.seq = seq\n",
    "        \n",
    "        self.list = [\"A\", \"R\", \"N\", \"D\", \"C\", \"Q\", \"E\", \"G\", \"H\",\n",
    "                    \"I\", \"L\", \"K\", \"M\", \"F\", \"P\", \"S\", \"T\", \"W\", \n",
    "                    \"Y\", \"V\", \"O\", \"U\", \"B\", \"Z\", \"J\"]\n",
    "        \n",
    "        self.mass_dict = {\n",
    "            \"A\": 71, \"R\": 156, \"N\": 114, \"D\": 115, \"C\": 103, \"Q\": 128, \"E\": 129, \"G\": 57, \"H\": 137, \"I\": 113,\n",
    "            \"L\": 113, \"K\": 128, \"M\": 131, \"F\": 147, \"P\": 97, \"S\": 87, \"T\": 101, \"W\": 186, \"Y\": 163, \"V\": 99, \n",
    "            \"O\": 237, \"U\": 150, \"B\": 115, \"Z\": 129, \"J\": 115\n",
    "        }\n",
    "    \n",
    "    def __len__(self):\n",
    "        return len(self.seq)\n",
    "    \n",
    "    def __getitem__(self, slc):\n",
    "        return self.seq[slc]\n",
    "    \n",
    "    def __str__(self):\n",
    "        return str(self.seq)\n",
    "    \n",
    "    def __repr__(self):\n",
    "        return str(f\"Sequence {self.seq}\")\n",
    "    \n",
    "    def __upper__(self):\n",
    "        return self.seq.upper()\n",
    "        \n",
    "    def __lower__(self):\n",
    "        return self.seq.lower()\n",
    "    \n",
    "    def correctness(self):\n",
    "        if any(monomer not in self.list for monomer in self.seq.upper()):\n",
    "            raise IncorrectSequenceAlphabet(\"Your sequence contains illegal symbols.\")\n",
    "        else:\n",
    "            return True\n",
    "        \n",
    "    def translate(self):\n",
    "        pass\n",
    "    \n",
    "    def mol_mass(self):\n",
    "        result = sum([self.mass_dict[aminoacid] for aminoacid in self.seq.upper()])\n",
    "        return result"
   ]
  },
  {
   "cell_type": "code",
   "execution_count": 120,
   "id": "24406f0f",
   "metadata": {},
   "outputs": [],
   "source": [
    "class DNASequence(NucleicAcidSequence):\n",
    "    def __init__(self, seq):\n",
    "        self.seq = seq\n",
    "        \n",
    "        self.list = [\"A\", \"G\", \"C\", \"T\"]\n",
    "        \n",
    "        self.dictionary = {\n",
    "            \"a\": \"t\", \"A\": \"T\", \"t\": \"a\", \"T\": \"A\", \"g\": \"c\", \"G\": \"C\", \"c\": \"g\", \"C\": \"G\",\n",
    "             \"R\": \"Y\", \"r\": \"y\", \"Y\": \"R\", \"y\": \"r\", \"n\": \"n\", \"N\": \"N\"          \n",
    "            }\n",
    "        \n",
    "        self.transcribed = {\n",
    "            \"a\": \"a\", \"A\": \"A\", \"t\": \"u\", \"T\": \"U\", \"g\": \"g\", \"G\": \"G\", \"c\": \"c\", \n",
    "            \"C\": \"C\", \"R\": \"R\", \"r\": \"r\", \"Y\": \"Y\", \"y\": \"y\", \"n\": \"n\", \"N\": \"N\"\n",
    "            }\n",
    "    \n",
    "    def transcribe(self):\n",
    "        if self.correctness():\n",
    "            result = ''.join([self.transcribed[nucleotide] for nucleotide in self.seq])\n",
    "        return result\n",
    "\n",
    "class RNASequence(NucleicAcidSequence):\n",
    "    def __init__(self, seq):\n",
    "        self.seq = seq\n",
    "        \n",
    "        self.list = [\"A\", \"G\", \"C\", \"U\"]\n",
    "        \n",
    "        self.dictionary = {\n",
    "            \"g\": \"c\", \"G\": \"C\", \"c\": \"g\", \"C\": \"G\", \"a\": \"u\", \"A\": \"U\", \"u\": \"a\", \n",
    "            \"U\": \"A\", \"R\": \"Y\", \"r\": \"y\", \"Y\": \"R\", \"y\": \"r\", \"n\": \"n\", \"N\": \"N\"          \n",
    "            }"
   ]
  }
 ],
 "metadata": {
  "kernelspec": {
   "display_name": "Python 3 (ipykernel)",
   "language": "python",
   "name": "python3"
  },
  "language_info": {
   "codemirror_mode": {
    "name": "ipython",
    "version": 3
   },
   "file_extension": ".py",
   "mimetype": "text/x-python",
   "name": "python",
   "nbconvert_exporter": "python",
   "pygments_lexer": "ipython3",
   "version": "3.9.13"
  }
 },
 "nbformat": 4,
 "nbformat_minor": 5
}
